{
 "cells": [
  {
   "cell_type": "markdown",
   "id": "119c9275-dabe-49bd-b2f2-deaeb4d1be7d",
   "metadata": {},
   "source": [
    "# Create the retrieval part of the RAG \n",
    "\n",
    "More specifically we will:\n",
    "- Read a JSON document containing the internal information that we need\n",
    "- Create an index in the elastic search\n",
    "- Index the document using elastic-search, to retrieve it later creating a small search engine"
   ]
  },
  {
   "cell_type": "code",
   "execution_count": 7,
   "id": "5ebdc536-5051-44ee-a73d-1d51a54e7da8",
   "metadata": {},
   "outputs": [
    {
     "name": "stdout",
     "output_type": "stream",
     "text": [
      "--2024-05-07 12:02:54--  https://github.com/alexeygrigorev/llm-rag-workshop/raw/main/notebooks/documents.json\n",
      "Resolving github.com (github.com)... 140.82.121.3\n",
      "Connecting to github.com (github.com)|140.82.121.3|:443... connected.\n",
      "HTTP request sent, awaiting response... 302 Found\n",
      "Location: https://raw.githubusercontent.com/alexeygrigorev/llm-rag-workshop/main/notebooks/documents.json [following]\n",
      "--2024-05-07 12:02:54--  https://raw.githubusercontent.com/alexeygrigorev/llm-rag-workshop/main/notebooks/documents.json\n",
      "Resolving raw.githubusercontent.com (raw.githubusercontent.com)... 185.199.110.133, 185.199.109.133, 185.199.111.133, ...\n",
      "Connecting to raw.githubusercontent.com (raw.githubusercontent.com)|185.199.110.133|:443... connected.\n",
      "HTTP request sent, awaiting response... 200 OK\n",
      "Length: 658332 (643K) [text/plain]\n",
      "Saving to: ‘documents.json.1’\n",
      "\n",
      "documents.json.1    100%[===================>] 642.90K  --.-KB/s    in 0.009s  \n",
      "\n",
      "2024-05-07 12:02:54 (67.6 MB/s) - ‘documents.json.1’ saved [658332/658332]\n",
      "\n",
      "[\n",
      "  {\n",
      "    \"course\": \"data-engineering-zoomcamp\",\n",
      "    \"documents\": [\n",
      "      {\n",
      "        \"text\": \"The purpose of this document is to capture frequently asked technical questions\\nThe exact day and hour of the course will be 15th Jan 2024 at 17h00. The course will start with the first  \\u201cOffice Hours'' live.1\\nSubscribe to course public Google Calendar (it works from Desktop only).\\nRegister before the course starts using this link.\\nJoin the course Telegram channel with announcements.\\nDon\\u2019t forget to register in DataTalks.Club's Slack and join the channel.\",\n",
      "        \"section\": \"General course-related questions\",\n",
      "        \"question\": \"Course - When will the course start?\"\n",
      "      },\n",
      "      {\n"
     ]
    }
   ],
   "source": [
    "# Download the document containing our own knowledge base\n",
    "!wget https://github.com/alexeygrigorev/llm-rag-workshop/raw/main/notebooks/documents.json\n",
    "# Examine the first record of the file\n",
    "!head documents.json"
   ]
  },
  {
   "cell_type": "code",
   "execution_count": 8,
   "id": "6e734d40-5513-42a7-9713-66e9773a5136",
   "metadata": {},
   "outputs": [],
   "source": [
    "# Load and flatten the file by adding the course in each object in the question list\n",
    "\n",
    "# Import the necessary libraries to read JSON files\n",
    "import json\n",
    "\n",
    "# Read the JSON file\n",
    "with open('./documents.json', 'rt') as f_in:\n",
    "    documents_file = json.load(f_in)\n",
    "\n",
    "# Initialise the flattened list of qas\n",
    "documents = []\n",
    "\n",
    "# Flatten the file\n",
    "for course in documents_file:\n",
    "    course_name = course['course']\n",
    "\n",
    "    for doc in course['documents']:\n",
    "        doc['course'] = course_name\n",
    "        documents.append(doc)"
   ]
  },
  {
   "cell_type": "code",
   "execution_count": null,
   "id": "a726eeb9-72d8-4690-bfa6-22d6530859b1",
   "metadata": {},
   "outputs": [],
   "source": [
    "# See the number of questions we "
   ]
  }
 ],
 "metadata": {
  "kernelspec": {
   "display_name": "Python 3 (ipykernel)",
   "language": "python",
   "name": "python3"
  },
  "language_info": {
   "codemirror_mode": {
    "name": "ipython",
    "version": 3
   },
   "file_extension": ".py",
   "mimetype": "text/x-python",
   "name": "python",
   "nbconvert_exporter": "python",
   "pygments_lexer": "ipython3",
   "version": "3.10.13"
  }
 },
 "nbformat": 4,
 "nbformat_minor": 5
}
