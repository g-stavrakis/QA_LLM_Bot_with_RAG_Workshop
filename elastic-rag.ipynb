{
 "cells": [
  {
   "cell_type": "markdown",
   "id": "119c9275-dabe-49bd-b2f2-deaeb4d1be7d",
   "metadata": {},
   "source": [
    "# Create the retrieval part of the RAG \n",
    "\n",
    "More specifically we will:\n",
    "- Read a JSON document containing the internal information that we need\n",
    "- Connect and create an index in the elastic search\n",
    "- Index the document using elastic-search, to retrieve it later creating a small search engine"
   ]
  },
  {
   "cell_type": "code",
   "execution_count": null,
   "id": "5ebdc536-5051-44ee-a73d-1d51a54e7da8",
   "metadata": {},
   "outputs": [],
   "source": [
    "# Download the document containing our own knowledge base\n",
    "!wget https://github.com/alexeygrigorev/llm-rag-workshop/raw/main/notebooks/documents.json\n",
    "# Examine the first record of the file\n",
    "!head documents.json"
   ]
  },
  {
   "cell_type": "code",
   "execution_count": null,
   "id": "6e734d40-5513-42a7-9713-66e9773a5136",
   "metadata": {},
   "outputs": [],
   "source": [
    "# Load and flatten the file by adding the course in each object in the question list\n",
    "\n",
    "# Import the necessary libraries to read JSON files\n",
    "import json\n",
    "\n",
    "# Read the JSON file\n",
    "with open('./documents.json', 'rt') as f_in:\n",
    "    documents_file = json.load(f_in)\n",
    "\n",
    "# Initialise the flattened list of qas\n",
    "documents = []\n",
    "\n",
    "# Flatten the file\n",
    "for course in documents_file:\n",
    "    course_name = course['course']\n",
    "\n",
    "    for doc in course['documents']:\n",
    "        doc['course'] = course_name\n",
    "        documents.append(doc)"
   ]
  },
  {
   "cell_type": "code",
   "execution_count": null,
   "id": "a726eeb9-72d8-4690-bfa6-22d6530859b1",
   "metadata": {},
   "outputs": [],
   "source": [
    "# See the number of questions we have\n",
    "print(len(documents))\n",
    "# See the first q&a\n",
    "documents[0]"
   ]
  },
  {
   "cell_type": "code",
   "execution_count": null,
   "id": "b8513915-27b8-4cbf-97a9-22125b421507",
   "metadata": {},
   "outputs": [],
   "source": [
    "from elasticsearch import Elasticsearch\n",
    "# Connect to the elastic search\n",
    "es = Elasticsearch(\"http://localhost:9200\")\n",
    "# Verify that you have connected successfully \n",
    "es.info()"
   ]
  },
  {
   "cell_type": "code",
   "execution_count": null,
   "id": "29b4f14d-8201-44e3-ac52-67f99c539aa2",
   "metadata": {},
   "outputs": [],
   "source": [
    "# Provide the properties of the elastic search index\n",
    "index_settings = {\n",
    "    \"settings\": {\n",
    "        \"number_of_shards\": 1,\n",
    "        \"number_of_replicas\": 0\n",
    "    },\n",
    "    \"mappings\": {\n",
    "        \"properties\": {\n",
    "            \"text\": {\"type\": \"text\"},\n",
    "            \"section\": {\"type\": \"text\"},\n",
    "            \"question\": {\"type\": \"text\"},\n",
    "            \"course\": {\"type\": \"keyword\"} \n",
    "        }\n",
    "    }\n",
    "}\n",
    "# Provide the name of the index\n",
    "index_name = \"course-questions\"\n",
    "# Create the Index \n",
    "response = es.indices.create(index=index_name, body=index_settings)\n",
    "# Verify that the index has been created\n",
    "response"
   ]
  },
  {
   "cell_type": "code",
   "execution_count": null,
   "id": "4c1998d7-8f80-4ebc-a7e4-8b4af3e4e239",
   "metadata": {},
   "outputs": [],
   "source": [
    "from tqdm.auto import tqdm\n",
    "# Index all the document to elastic search - adding document to the specific index\n",
    "for doc in tqdm(documents):\n",
    "    es.index(index=index_name, document=doc)"
   ]
  },
  {
   "cell_type": "code",
   "execution_count": null,
   "id": "9e5d4ec7-63ab-41bb-8322-c936340ae451",
   "metadata": {},
   "outputs": [],
   "source": [
    "# Simple query data for an elastic search\n",
    "\n",
    "# Create the question for the elastic search to look for\n",
    "user_question = \"How do I join the course after it has started?\"\n",
    "\n",
    "# Create the body of the search request\n",
    "search_query = {\n",
    "    \"size\": 5,     # specify the number of documents to retrieve\n",
    "    \"query\": {\n",
    "        \"bool\": {\n",
    "            \"must\": {\n",
    "                \"multi_match\": {\n",
    "                    \"query\": user_question,  # specify the question to elastic search\n",
    "                    \"fields\": [\"question^3\", \"text\", \"section\"], # specify the field you want the elastic search to look for answers - the ^3 meaning that we will give 3 times more priority to answers found in the question field\n",
    "                    \"type\": \"best_fields\"\n",
    "                }\n",
    "            },\n",
    "            \"filter\": {   # to filter from which document to look into\n",
    "                \"term\": {\n",
    "                    \"course\": \"data-engineering-zoomcamp\" \n",
    "                }\n",
    "            }\n",
    "        }\n",
    "    }\n",
    "}\n",
    "\n",
    "# Query the elactic search db\n",
    "response = es.search(index=index_name, body=search_query)\n",
    "\n",
    "# See the response -  top 5 search results\n",
    "response"
   ]
  },
  {
   "cell_type": "code",
   "execution_count": null,
   "id": "80e67fe4-9aee-49ae-8c30-8b94d26c8241",
   "metadata": {},
   "outputs": [],
   "source": [
    "# Prettify the response\n",
    "for hit in response['hits']['hits']:\n",
    "    doc = hit['_source']\n",
    "    print(f\"Section: {doc['section']}\\nQuestion: {doc['question']}\\nAnswer: {doc['text']}\\n\\n\")"
   ]
  },
  {
   "cell_type": "code",
   "execution_count": null,
   "id": "079c8af0-32aa-4e4c-9bf0-012f51b2f5b6",
   "metadata": {},
   "outputs": [],
   "source": [
    "# To have them all together in one function\n",
    "\n",
    "# Initialize the elastic search via docker\n",
    "es = Elasticsearch(\"http://localhost:9200\")\n",
    "\n",
    "# Create the function to query the user question in Elastic Search\n",
    "def retrieve_documents(query, index_name=\"course-questions\", max_results=5):    \n",
    "    search_query = {\n",
    "        \"size\": max_results,\n",
    "        \"query\": {\n",
    "            \"bool\": {\n",
    "                \"must\": {\n",
    "                    \"multi_match\": {\n",
    "                        \"query\": query,\n",
    "                        \"fields\": [\"question^3\", \"text\", \"section\"],\n",
    "                        \"type\": \"best_fields\"\n",
    "                    }\n",
    "                },\n",
    "                \"filter\": {\n",
    "                    \"term\": {\n",
    "                        \"course\": \"data-engineering-zoomcamp\"\n",
    "                    }\n",
    "                }\n",
    "            }\n",
    "        }\n",
    "    }\n",
    "    \n",
    "    response = es.search(index=index_name, body=search_query)\n",
    "    documents = [hit['_source'] for hit in response['hits']['hits']]\n",
    "    return documents"
   ]
  },
  {
   "cell_type": "code",
   "execution_count": null,
   "id": "00245a85-b672-4f01-9674-9624cfdd729a",
   "metadata": {},
   "outputs": [],
   "source": [
    "# Query a question\n",
    "user_question = \"How do I join the course after it has started?\"\n",
    "\n",
    "response = retrieve_documents(user_question)\n",
    "\n",
    "for doc in response:\n",
    "    print(f\"Section: {doc['section']}\\nQuestion: {doc['question']}\\nAnswer: {doc['text']}\\n\\n\")"
   ]
  },
  {
   "cell_type": "markdown",
   "id": "1f52bb1c-5261-4291-86ad-69a32ce008a3",
   "metadata": {},
   "source": [
    "# Create the answering generation part of the RAG \n",
    "\n",
    "More specifically we will:\n",
    "- Create a client of Open AI API\n",
    "- Connect a prompt template containing the model instructions, question, and context (to instruct the model to answer based on the context)\n",
    "- Create the context in the prompt by appending there all the retrieved documents from elastic search\n",
    "- Use this prompt to the API to get the answer"
   ]
  },
  {
   "cell_type": "code",
   "execution_count": null,
   "id": "c07563f3-1e25-4977-8688-31fe807fdda3",
   "metadata": {},
   "outputs": [],
   "source": [
    "from openai import OpenAI\n",
    "\n",
    "# Create a client to the OpenAI API\n",
    "client = OpenAI()\n",
    "\n",
    "# Verify the connection by providing a sample question\n",
    "response = client.chat.completions.create(\n",
    "    model=\"gpt-3.5-turbo\",\n",
    "    messages=[{\"role\": \"user\", \"content\": \"What's the formula for Energy?\"}]\n",
    ")\n",
    "print(response.choices[0].message.content)"
   ]
  },
  {
   "cell_type": "code",
   "execution_count": null,
   "id": "73316faa-f135-42fc-a664-4b80ace7a22b",
   "metadata": {},
   "outputs": [],
   "source": [
    "# Create the context of the prompt\n",
    "\n",
    "# Retrieve the relevant information from elastic search\n",
    "context_docs = retrieve_documents(user_question)\n",
    "\n",
    "# Create the context string\n",
    "context = \"\"\n",
    "\n",
    "for doc in context_docs:\n",
    "    doc_str = f\"Section: {doc['section']}\\nQuestion: {doc['question']}\\nAnswer: {doc['text']}\\n\\n\"\n",
    "    context += doc_str\n",
    "\n",
    "context = context.strip()\n",
    "print(context)"
   ]
  },
  {
   "cell_type": "code",
   "execution_count": null,
   "id": "1c8b0eca-d98c-4496-8050-6083dd98955f",
   "metadata": {},
   "outputs": [],
   "source": [
    "# Create the final prompt containing instructions, question and context\n",
    "prompt = f\"\"\"\n",
    "You're a course teaching assistant. Answer the user QUESTION based on CONTEXT - the documents retrieved from our FAQ database. \n",
    "Only use the facts from the CONTEXT. If the CONTEXT doesn't contain the answer, return \"NONE\"\n",
    "\n",
    "QUESTION: {user_question}\n",
    "\n",
    "CONTEXT:\n",
    "\n",
    "{context}\n",
    "\"\"\".strip()"
   ]
  },
  {
   "cell_type": "code",
   "execution_count": null,
   "id": "6f42da12-7dbc-4d5c-a502-cafea1355e2a",
   "metadata": {},
   "outputs": [],
   "source": [
    "# Use this prompt to the API\n",
    "response = client.chat.completions.create(\n",
    "    model=\"gpt-3.5-turbo\",\n",
    "    messages=[{\"role\": \"user\", \"content\": prompt}]\n",
    ")\n",
    "answer = response.choices[0].message.content\n",
    "answer"
   ]
  },
  {
   "cell_type": "code",
   "execution_count": null,
   "id": "bff048da-8056-45e8-aad9-37b0411f2a11",
   "metadata": {},
   "outputs": [],
   "source": [
    "# Create a function to perform the whole RAG\n",
    "\n",
    "# Create a function to formulate the context string\n",
    "def build_context(documents):\n",
    "    context = \"\"\n",
    "\n",
    "    for doc in documents:\n",
    "        doc_str = f\"Section: {doc['section']}\\nQuestion: {doc['question']}\\nAnswer: {doc['text']}\\n\\n\"\n",
    "        context += doc_str\n",
    "    \n",
    "    context = context.strip()\n",
    "    return context\n",
    "\n",
    "# Create a function to formulate the final prompt\n",
    "def build_prompt(user_question, documents):\n",
    "    context = build_context(documents)\n",
    "    return f\"\"\"\n",
    "You're a course teaching assistant.\n",
    "Answer the user QUESTION based on CONTEXT - the documents retrieved from our FAQ database.\n",
    "Don't use other information outside of the provided CONTEXT.  \n",
    "\n",
    "QUESTION: {user_question}\n",
    "\n",
    "CONTEXT:\n",
    "\n",
    "{context}\n",
    "\"\"\".strip()\n",
    "\n",
    "# Create a function to sent the request to LLM model using the constructed prompt\n",
    "def ask_openai(prompt, model=\"gpt-3.5-turbo\"):\n",
    "    response = client.chat.completions.create(\n",
    "        model=\"gpt-3.5-turbo\",\n",
    "        messages=[{\"role\": \"user\", \"content\": prompt}]\n",
    "    )\n",
    "    answer = response.choices[0].message.content\n",
    "    return answer\n",
    "\n",
    "# Create the QA bot using RAG\n",
    "def qa_bot(user_question):\n",
    "    # Retrieve the relevant document using elastic search\n",
    "    context_docs = retrieve_documents(user_question)\n",
    "    # Create the prompt\n",
    "    prompt = build_prompt(user_question, context_docs)\n",
    "    # Pass the prompt to the LLM model aka OpenAI API\n",
    "    answer = ask_openai(prompt)\n",
    "    return answer"
   ]
  },
  {
   "cell_type": "code",
   "execution_count": null,
   "id": "0d87d470-88bc-4c3c-a185-c478351d2544",
   "metadata": {},
   "outputs": [],
   "source": [
    "qa_bot(\"I'm getting invalid reference format: repository name must be lowercase\")"
   ]
  }
 ],
 "metadata": {
  "kernelspec": {
   "display_name": "Python 3 (ipykernel)",
   "language": "python",
   "name": "python3"
  },
  "language_info": {
   "codemirror_mode": {
    "name": "ipython",
    "version": 3
   },
   "file_extension": ".py",
   "mimetype": "text/x-python",
   "name": "python",
   "nbconvert_exporter": "python",
   "pygments_lexer": "ipython3",
   "version": "3.10.13"
  }
 },
 "nbformat": 4,
 "nbformat_minor": 5
}
